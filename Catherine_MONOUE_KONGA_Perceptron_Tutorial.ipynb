{
  "cells": [
    {
      "cell_type": "markdown",
      "metadata": {
        "id": "view-in-github",
        "colab_type": "text"
      },
      "source": [
        "<a href=\"https://colab.research.google.com/github/MONOUE/perceptron/blob/master/Catherine_MONOUE_KONGA_Perceptron_Tutorial.ipynb\" target=\"_parent\"><img src=\"https://colab.research.google.com/assets/colab-badge.svg\" alt=\"Open In Colab\"/></a>"
      ]
    },
    {
      "cell_type": "markdown",
      "source": [
        "## Please make a copy of the notebook before you start updating it."
      ],
      "metadata": {
        "id": "h0Cu9Drja8Ws"
      }
    },
    {
      "cell_type": "markdown",
      "source": [
        "# Import libraries and load the data from sklearn dataset"
      ],
      "metadata": {
        "id": "aOJufAT477Vz"
      }
    },
    {
      "cell_type": "code",
      "execution_count": 1,
      "metadata": {
        "id": "VhoY8C6aa5HT"
      },
      "outputs": [],
      "source": [
        " ### Import packages\n",
        "\n",
        "import numpy as np\n",
        "import matplotlib.pyplot as plt\n",
        "from sklearn.datasets import load_iris"
      ]
    },
    {
      "cell_type": "code",
      "execution_count": 2,
      "metadata": {
        "id": "d5HcWRp0a5HX"
      },
      "outputs": [],
      "source": [
        "### Import datasets from sklearn.datasets\n",
        "data = load_iris()"
      ]
    },
    {
      "cell_type": "code",
      "execution_count": 3,
      "metadata": {
        "id": "radjgNPta5HX"
      },
      "outputs": [],
      "source": [
        "#### Target \n",
        "\n",
        "target = data.target"
      ]
    },
    {
      "cell_type": "code",
      "execution_count": null,
      "metadata": {
        "id": "jNETJucqa5HY"
      },
      "outputs": [],
      "source": [
        ""
      ]
    },
    {
      "cell_type": "code",
      "execution_count": 4,
      "metadata": {
        "id": "b4XAj5Rta5HY"
      },
      "outputs": [],
      "source": [
        "### Count the number of uniques values\n",
        "\n",
        "N_= np.unique(target)"
      ]
    },
    {
      "cell_type": "code",
      "execution_count": 5,
      "metadata": {
        "colab": {
          "base_uri": "https://localhost:8080/"
        },
        "id": "SRvdDUEra5HY",
        "outputId": "472652c1-33b6-4d51-9e33-2aa061c7f711"
      },
      "outputs": [
        {
          "output_type": "stream",
          "name": "stdout",
          "text": [
            "the unique values in the targets are [0 1 2]\n"
          ]
        }
      ],
      "source": [
        "print('the unique values in the targets are', N_)"
      ]
    },
    {
      "cell_type": "code",
      "execution_count": 6,
      "metadata": {
        "colab": {
          "base_uri": "https://localhost:8080/"
        },
        "id": "l4qtWQzna5HZ",
        "outputId": "f5af2334-867c-404d-cedf-106507668026"
      },
      "outputs": [
        {
          "output_type": "execute_result",
          "data": {
            "text/plain": [
              "(150,)"
            ]
          },
          "metadata": {},
          "execution_count": 6
        }
      ],
      "source": [
        "target.shape"
      ]
    },
    {
      "cell_type": "markdown",
      "source": [
        "## Remove the class 2 in our dataset in order to have a binary classification problem"
      ],
      "metadata": {
        "id": "FwLb63ZQ8Spu"
      }
    },
    {
      "cell_type": "code",
      "execution_count": 8,
      "metadata": {
        "id": "gOL6z-Qqa5Ha"
      },
      "outputs": [],
      "source": [
        "##############\n",
        "y = np.array([i for i in target if i!=2])\n",
        "\n",
        "#######"
      ]
    },
    {
      "cell_type": "code",
      "execution_count": 9,
      "metadata": {
        "id": "QRFOsXyQa5Ha",
        "outputId": "8146513a-0ba0-49d5-b341-fc6357b41c62",
        "colab": {
          "base_uri": "https://localhost:8080/"
        }
      },
      "outputs": [
        {
          "output_type": "execute_result",
          "data": {
            "text/plain": [
              "(100,)"
            ]
          },
          "metadata": {},
          "execution_count": 9
        }
      ],
      "source": [
        "y.shape"
      ]
    },
    {
      "cell_type": "code",
      "execution_count": 10,
      "metadata": {
        "id": "0EOcinLHa5Hb",
        "outputId": "49446466-5ada-4fcd-e331-6c2cdddaf361",
        "colab": {
          "base_uri": "https://localhost:8080/"
        }
      },
      "outputs": [
        {
          "output_type": "execute_result",
          "data": {
            "text/plain": [
              "array([0, 0, 0, 0, 0, 0, 0, 0, 0, 0, 0, 0, 0, 0, 0, 0, 0, 0, 0, 0, 0, 0,\n",
              "       0, 0, 0, 0, 0, 0, 0, 0, 0, 0, 0, 0, 0, 0, 0, 0, 0, 0, 0, 0, 0, 0,\n",
              "       0, 0, 0, 0, 0, 0, 1, 1, 1, 1, 1, 1, 1, 1, 1, 1, 1, 1, 1, 1, 1, 1,\n",
              "       1, 1, 1, 1, 1, 1, 1, 1, 1, 1, 1, 1, 1, 1, 1, 1, 1, 1, 1, 1, 1, 1,\n",
              "       1, 1, 1, 1, 1, 1, 1, 1, 1, 1, 1, 1])"
            ]
          },
          "metadata": {},
          "execution_count": 10
        }
      ],
      "source": [
        "y"
      ]
    },
    {
      "cell_type": "markdown",
      "source": [
        "## Replace all 0 in the target by -1 using numpy"
      ],
      "metadata": {
        "id": "yQ_xeoyJ0VWd"
      }
    },
    {
      "cell_type": "code",
      "execution_count": 12,
      "metadata": {
        "id": "dfeM2mVta5Hb"
      },
      "outputs": [],
      "source": [
        "#############\n",
        "# your code here\n",
        "y=np.where(y==0,-1,y)\n",
        "###########"
      ]
    },
    {
      "cell_type": "code",
      "execution_count": 13,
      "metadata": {
        "id": "M1g4Vb4za5Hb",
        "outputId": "450c405a-a02e-452c-a77a-969ea9c0ff8d",
        "colab": {
          "base_uri": "https://localhost:8080/"
        }
      },
      "outputs": [
        {
          "output_type": "execute_result",
          "data": {
            "text/plain": [
              "array([-1, -1, -1, -1, -1, -1, -1, -1, -1, -1, -1, -1, -1, -1, -1, -1, -1,\n",
              "       -1, -1, -1, -1, -1, -1, -1, -1, -1, -1, -1, -1, -1, -1, -1, -1, -1,\n",
              "       -1, -1, -1, -1, -1, -1, -1, -1, -1, -1, -1, -1, -1, -1, -1, -1,  1,\n",
              "        1,  1,  1,  1,  1,  1,  1,  1,  1,  1,  1,  1,  1,  1,  1,  1,  1,\n",
              "        1,  1,  1,  1,  1,  1,  1,  1,  1,  1,  1,  1,  1,  1,  1,  1,  1,\n",
              "        1,  1,  1,  1,  1,  1,  1,  1,  1,  1,  1,  1,  1,  1,  1])"
            ]
          },
          "metadata": {},
          "execution_count": 13
        }
      ],
      "source": [
        "y"
      ]
    },
    {
      "cell_type": "code",
      "execution_count": 14,
      "metadata": {
        "id": "Zj8C-cD_a5Hb"
      },
      "outputs": [],
      "source": [
        "### Inputs values\n",
        "Inputs = data.data"
      ]
    },
    {
      "cell_type": "code",
      "execution_count": 15,
      "metadata": {
        "colab": {
          "base_uri": "https://localhost:8080/"
        },
        "id": "PMF4LKb_a5Hc",
        "outputId": "825702d4-d0f3-45ee-9cb5-a9d18610236a"
      },
      "outputs": [
        {
          "output_type": "execute_result",
          "data": {
            "text/plain": [
              "(150, 4)"
            ]
          },
          "metadata": {},
          "execution_count": 15
        }
      ],
      "source": [
        "Inputs.shape"
      ]
    },
    {
      "cell_type": "markdown",
      "source": [
        "## Let's remove the last 50 rows in the inputs data (they belong to the class 2)"
      ],
      "metadata": {
        "id": "VjV5d0ZX0vEp"
      }
    },
    {
      "cell_type": "code",
      "execution_count": 16,
      "metadata": {
        "id": "y3xruEHZa5Hc"
      },
      "outputs": [],
      "source": [
        "#### New Input\n",
        "X = Inputs[:100,:]"
      ]
    },
    {
      "cell_type": "code",
      "execution_count": 17,
      "metadata": {
        "id": "hDg4AQUza5Hd",
        "outputId": "6f56bef0-c47b-46ca-dabf-631ea9276936",
        "colab": {
          "base_uri": "https://localhost:8080/"
        }
      },
      "outputs": [
        {
          "output_type": "execute_result",
          "data": {
            "text/plain": [
              "(100, 4)"
            ]
          },
          "metadata": {},
          "execution_count": 17
        }
      ],
      "source": [
        "X.shape"
      ]
    },
    {
      "cell_type": "code",
      "source": [
        "plt.scatter(X[:, 0], y)"
      ],
      "metadata": {
        "colab": {
          "base_uri": "https://localhost:8080/",
          "height": 282
        },
        "id": "RNrh-r0xEzPV",
        "outputId": "d800af0e-ff7b-45da-ab2b-b9d3961ccc66"
      },
      "execution_count": 18,
      "outputs": [
        {
          "output_type": "execute_result",
          "data": {
            "text/plain": [
              "<matplotlib.collections.PathCollection at 0x7fa051765c10>"
            ]
          },
          "metadata": {},
          "execution_count": 18
        },
        {
          "output_type": "display_data",
          "data": {
            "image/png": "[encoded data removed]",
            "text/plain": [
              "<Figure size 432x288 with 1 Axes>"
            ]
          },
          "metadata": {
            "needs_background": "light"
          }
        }
      ]
    },
    {
      "cell_type": "markdown",
      "source": [
        "## Combines the dataset and Shuffle them using numpy"
      ],
      "metadata": {
        "id": "V15p2I-D1P-X"
      }
    },
    {
      "cell_type": "code",
      "source": [
        ""
      ],
      "metadata": {
        "id": "4WnaJxP5iIjN"
      },
      "execution_count": null,
      "outputs": []
    },
    {
      "cell_type": "code",
      "execution_count": 40,
      "metadata": {
        "id": "-2LXYdI4a5Hd"
      },
      "outputs": [],
      "source": [
        "### Combines the input X and the target y\n",
        "np.random.seed(1)\n",
        "dataset= np.hstack([X,y.reshape(100,1)])\n",
        "np.random.shuffle(dataset)\n",
        "## shuffle the data\n",
        "\n"
      ]
    },
    {
      "cell_type": "code",
      "source": [
        "np.c_[X,y]"
      ],
      "metadata": {
        "id": "itbAZQTMm6rw"
      },
      "execution_count": null,
      "outputs": []
    },
    {
      "cell_type": "markdown",
      "source": [
        "## Split the data into (X_train, Y_train), (X_test, Y_test):  80% for training and 20% for test"
      ],
      "metadata": {
        "id": "mhbqMNIV3DrM"
      }
    },
    {
      "cell_type": "code",
      "execution_count": 36,
      "metadata": {
        "id": "YTxsELH1a5He"
      },
      "outputs": [],
      "source": [
        "#########\n",
        "# your code here\n",
        "index_train= int(0.8*len(dataset))\n",
        "X_train= dataset[:index_train,:-1]\n",
        "X_test= dataset[index_train:,:-1]\n",
        "Y_train= dataset[:index_train,-1]\n",
        "Y_test= dataset[index_train:,-1]\n",
        "###########"
      ]
    },
    {
      "cell_type": "code",
      "execution_count": 37,
      "metadata": {
        "id": "f2SrQK0ra5He",
        "outputId": "c1397889-c2d7-47c5-e1d9-6d3201f53036",
        "colab": {
          "base_uri": "https://localhost:8080/"
        }
      },
      "outputs": [
        {
          "output_type": "stream",
          "name": "stdout",
          "text": [
            "(80, 4)\n"
          ]
        }
      ],
      "source": [
        "print(X_train.shape)"
      ]
    },
    {
      "cell_type": "code",
      "execution_count": 38,
      "metadata": {
        "id": "LQdFxmC4a5Hf",
        "outputId": "f33a22f7-4071-4a37-98ab-e5a9e2d9da82",
        "colab": {
          "base_uri": "https://localhost:8080/"
        }
      },
      "outputs": [
        {
          "output_type": "stream",
          "name": "stdout",
          "text": [
            "(80,)\n",
            "(20, 4)\n",
            "(20,)\n"
          ]
        }
      ],
      "source": [
        "print(Y_train.shape)\n",
        "print(X_test.shape)\n",
        "print(Y_test.shape)"
      ]
    },
    {
      "cell_type": "markdown",
      "source": [
        "## Implement the class Perceptron\n",
        "\n",
        "$ŷ[i] = Θ^TX[i]$\n",
        "\n",
        "if  $y[i]*np.sign(ŷ[i]) <= 0$:\n",
        "\n",
        "        update Θ: Θ = Θ + y[i]*X[i]\n",
        "else:\n",
        "\n",
        "      Θ = Θ\n",
        "\n",
        "## For prediction: \n",
        "\n",
        "np.sign(X @ Θ)"
      ],
      "metadata": {
        "id": "-S45JTl04rf0"
      }
    },
    {
      "cell_type": "code",
      "execution_count": 76,
      "metadata": {
        "id": "Fi4m35Q6a5Hh"
      },
      "outputs": [],
      "source": [
        "class perceptron:\n",
        "    \n",
        "    #eps = 1e-2\n",
        "    def __init__(self, X, Y,theta,iter_= 100):\n",
        "        self.X = X\n",
        "        self.Y = Y\n",
        "        self.iter_ = iter_\n",
        "        self.theta = theta\n",
        "        \n",
        "        \n",
        "    def train(self):\n",
        "      self.theta= self.theta.reshape(-1,1)\n",
        "        #loop over the number of iteration and the number of example\n",
        "      for _ in range(self.iter_ ):\n",
        "        for i in range(len(self.X)):\n",
        "          output= self.X[i].reshape(1,-1) @ self.theta\n",
        "\n",
        "          if self.Y[i]* output<0:\n",
        "            self.theta+=self.Y[i]*self.X[i].reshape(-1,1)\n",
        "        # compute the output of the model and update theta if necessary\n",
        "        \n",
        "    \n",
        "    def predic(self,X):\n",
        "      return np.sign(X @ self.theta)\n",
        "        \n",
        "    \n",
        "    def accuracy(self,X,Y):\n",
        "        ## number of correctly predicted examples * 100\n",
        "        return np.mean([int(self.predic(X)[i] * Y[i]> 0) for  i in range(len(Y))])*100\n",
        "            "
      ]
    },
    {
      "cell_type": "code",
      "execution_count": 77,
      "metadata": {
        "id": "wcwMg-Jga5Hi"
      },
      "outputs": [],
      "source": [
        "perceptron = perceptron(X_train,Y_train,np.random.rand(4)*1e-4)"
      ]
    },
    {
      "cell_type": "code",
      "execution_count": 78,
      "metadata": {
        "id": "jZquZaUva5Hj"
      },
      "outputs": [],
      "source": [
        "perceptron.train()"
      ]
    },
    {
      "cell_type": "code",
      "execution_count": 79,
      "metadata": {
        "id": "mrNV3LiUa5Hk",
        "outputId": "a29980f2-89ee-4924-c234-448550ec0713",
        "colab": {
          "base_uri": "https://localhost:8080/"
        }
      },
      "outputs": [
        {
          "output_type": "execute_result",
          "data": {
            "text/plain": [
              "array([[-1.],\n",
              "       [-1.],\n",
              "       [-1.],\n",
              "       [-1.],\n",
              "       [-1.],\n",
              "       [ 1.],\n",
              "       [-1.],\n",
              "       [-1.],\n",
              "       [ 1.],\n",
              "       [ 1.],\n",
              "       [-1.],\n",
              "       [-1.],\n",
              "       [ 1.],\n",
              "       [ 1.],\n",
              "       [-1.],\n",
              "       [ 1.],\n",
              "       [-1.],\n",
              "       [ 1.],\n",
              "       [-1.],\n",
              "       [-1.]])"
            ]
          },
          "metadata": {},
          "execution_count": 79
        }
      ],
      "source": [
        "perceptron.predic(X_test)"
      ]
    },
    {
      "cell_type": "code",
      "execution_count": 83,
      "metadata": {
        "id": "M_CL5aBBa5Hk",
        "outputId": "9765f845-f5d8-49d6-af54-e186866c75f2",
        "colab": {
          "base_uri": "https://localhost:8080/"
        }
      },
      "outputs": [
        {
          "output_type": "execute_result",
          "data": {
            "text/plain": [
              "100.0"
            ]
          },
          "metadata": {},
          "execution_count": 83
        }
      ],
      "source": [
        "perceptron.accuracy(X_test, Y_test)"
      ]
    },
    {
      "cell_type": "code",
      "execution_count": 85,
      "metadata": {
        "id": "I9TxPjKOa5Hk",
        "outputId": "cececddf-8d69-4d00-ea77-ee2cafa21cbd",
        "colab": {
          "base_uri": "https://localhost:8080/"
        }
      },
      "outputs": [
        {
          "output_type": "execute_result",
          "data": {
            "text/plain": [
              "20"
            ]
          },
          "metadata": {},
          "execution_count": 85
        }
      ],
      "source": [
        "np.sum(Y_test.reshape(-1,1)==perceptron.predic(X_test))"
      ]
    }
  ],
  "metadata": {
    "kernelspec": {
      "display_name": "Python 3",
      "language": "python",
      "name": "python3"
    },
    "language_info": {
      "codemirror_mode": {
        "name": "ipython",
        "version": 3
      },
      "file_extension": ".py",
      "mimetype": "text/x-python",
      "name": "python",
      "nbconvert_exporter": "python",
      "pygments_lexer": "ipython3",
      "version": "3.8.5"
    },
    "colab": {
      "name": "Catherine MONOUE KONGA Perceptron_Tutorial.ipynb",
      "provenance": [],
      "collapsed_sections": [],
      "include_colab_link": true
    }
  },
  "nbformat": 4,
  "nbformat_minor": 0
}