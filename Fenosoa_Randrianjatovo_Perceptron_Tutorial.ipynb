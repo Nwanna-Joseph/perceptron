{
  "cells": [
    {
      "cell_type": "markdown",
      "metadata": {
        "id": "view-in-github",
        "colab_type": "text"
      },
      "source": [
        "<a href=\"https://colab.research.google.com/github/FenosoaRandrianjatovo/perceptron/blob/master/Fenosoa_Randrianjatovo_Perceptron_Tutorial.ipynb\" target=\"_parent\"><img src=\"https://colab.research.google.com/assets/colab-badge.svg\" alt=\"Open In Colab\"/></a>"
      ]
    },
    {
      "cell_type": "markdown",
      "source": [
        "## Please make a copy of the notebook before you start updating it."
      ],
      "metadata": {
        "id": "h0Cu9Drja8Ws"
      }
    },
    {
      "cell_type": "markdown",
      "source": [
        "# Import libraries and load the data from sklearn dataset"
      ],
      "metadata": {
        "id": "aOJufAT477Vz"
      }
    },
    {
      "cell_type": "code",
      "execution_count": 211,
      "metadata": {
        "id": "VhoY8C6aa5HT"
      },
      "outputs": [],
      "source": [
        " ### Import packages\n",
        "\n",
        "import numpy as np\n",
        "import matplotlib.pyplot as plt\n",
        "from sklearn.datasets import load_iris"
      ]
    },
    {
      "cell_type": "code",
      "execution_count": 212,
      "metadata": {
        "id": "d5HcWRp0a5HX"
      },
      "outputs": [],
      "source": [
        "### Import datasets from sklearn.datasets\n",
        "data = load_iris()"
      ]
    },
    {
      "cell_type": "code",
      "execution_count": null,
      "metadata": {
        "id": "radjgNPta5HX"
      },
      "outputs": [],
      "source": [
        "#### Target \n",
        "\n",
        "target = data.target"
      ]
    },
    {
      "cell_type": "code",
      "execution_count": null,
      "metadata": {
        "id": "jNETJucqa5HY"
      },
      "outputs": [],
      "source": [
        ""
      ]
    },
    {
      "cell_type": "code",
      "execution_count": 213,
      "metadata": {
        "id": "b4XAj5Rta5HY"
      },
      "outputs": [],
      "source": [
        "### Count the number of uniques values\n",
        "\n",
        "N_= np.unique(target)\n"
      ]
    },
    {
      "cell_type": "code",
      "execution_count": 214,
      "metadata": {
        "colab": {
          "base_uri": "https://localhost:8080/"
        },
        "id": "SRvdDUEra5HY",
        "outputId": "3a0035e0-ea96-4f4d-f075-39fa92e908f4"
      },
      "outputs": [
        {
          "output_type": "stream",
          "name": "stdout",
          "text": [
            "the unique values in the targets are [0 1 2]\n"
          ]
        }
      ],
      "source": [
        "print('the unique values in the targets are', N_)"
      ]
    },
    {
      "cell_type": "code",
      "execution_count": 215,
      "metadata": {
        "colab": {
          "base_uri": "https://localhost:8080/"
        },
        "id": "l4qtWQzna5HZ",
        "outputId": "9db87ef4-65ed-4a4e-b2bb-d5f5d75b99d6"
      },
      "outputs": [
        {
          "output_type": "execute_result",
          "data": {
            "text/plain": [
              "(150,)"
            ]
          },
          "metadata": {},
          "execution_count": 215
        }
      ],
      "source": [
        "target.shape"
      ]
    },
    {
      "cell_type": "code",
      "source": [
        "\n",
        "\n"
      ],
      "metadata": {
        "id": "mmMP8A0odr91"
      },
      "execution_count": 215,
      "outputs": []
    },
    {
      "cell_type": "code",
      "source": [
        ""
      ],
      "metadata": {
        "id": "nBxzS5czezAI"
      },
      "execution_count": 215,
      "outputs": []
    },
    {
      "cell_type": "markdown",
      "source": [
        "## Remove the class 2 in our dataset in order to have a binary classification problem"
      ],
      "metadata": {
        "id": "FwLb63ZQ8Spu"
      }
    },
    {
      "cell_type": "code",
      "execution_count": 216,
      "metadata": {
        "id": "gOL6z-Qqa5Ha"
      },
      "outputs": [],
      "source": [
        "##############\n",
        "a=target.copy()\n",
        "y = np.delete(a,np.where(a == 2))\n",
        "#######\n",
        "\n",
        "\n",
        "# y=target[target !=2]\n",
        "# y"
      ]
    },
    {
      "cell_type": "code",
      "execution_count": 217,
      "metadata": {
        "id": "QRFOsXyQa5Ha",
        "outputId": "6ebc590a-e7aa-428c-8bad-ff859375a2e7",
        "colab": {
          "base_uri": "https://localhost:8080/"
        }
      },
      "outputs": [
        {
          "output_type": "execute_result",
          "data": {
            "text/plain": [
              "(100,)"
            ]
          },
          "metadata": {},
          "execution_count": 217
        }
      ],
      "source": [
        "y.shape"
      ]
    },
    {
      "cell_type": "code",
      "execution_count": 218,
      "metadata": {
        "id": "0EOcinLHa5Hb",
        "outputId": "a8411873-11f5-46c3-815f-b9398e03a393",
        "colab": {
          "base_uri": "https://localhost:8080/"
        }
      },
      "outputs": [
        {
          "output_type": "execute_result",
          "data": {
            "text/plain": [
              "array([0, 0, 0, 0, 0, 0, 0, 0, 0, 0, 0, 0, 0, 0, 0, 0, 0, 0, 0, 0, 0, 0,\n",
              "       0, 0, 0, 0, 0, 0, 0, 0, 0, 0, 0, 0, 0, 0, 0, 0, 0, 0, 0, 0, 0, 0,\n",
              "       0, 0, 0, 0, 0, 0, 1, 1, 1, 1, 1, 1, 1, 1, 1, 1, 1, 1, 1, 1, 1, 1,\n",
              "       1, 1, 1, 1, 1, 1, 1, 1, 1, 1, 1, 1, 1, 1, 1, 1, 1, 1, 1, 1, 1, 1,\n",
              "       1, 1, 1, 1, 1, 1, 1, 1, 1, 1, 1, 1])"
            ]
          },
          "metadata": {},
          "execution_count": 218
        }
      ],
      "source": [
        "y"
      ]
    },
    {
      "cell_type": "markdown",
      "source": [
        "## Replace all 0 in the target by -1 using numpy"
      ],
      "metadata": {
        "id": "yQ_xeoyJ0VWd"
      }
    },
    {
      "cell_type": "code",
      "source": [
        ""
      ],
      "metadata": {
        "id": "UcVYkDCbf4Tv"
      },
      "execution_count": 218,
      "outputs": []
    },
    {
      "cell_type": "code",
      "execution_count": 219,
      "metadata": {
        "id": "dfeM2mVta5Hb"
      },
      "outputs": [],
      "source": [
        "#############\n",
        "y[y==0]=-1\n",
        "###########\n",
        "# y=np.where(y==0,-1,y)"
      ]
    },
    {
      "cell_type": "code",
      "execution_count": 219,
      "metadata": {
        "id": "M1g4Vb4za5Hb"
      },
      "outputs": [],
      "source": [
        ""
      ]
    },
    {
      "cell_type": "code",
      "execution_count": 220,
      "metadata": {
        "id": "Zj8C-cD_a5Hb"
      },
      "outputs": [],
      "source": [
        "### Inputs values\n",
        "Inputs = data.data"
      ]
    },
    {
      "cell_type": "code",
      "execution_count": 221,
      "metadata": {
        "colab": {
          "base_uri": "https://localhost:8080/"
        },
        "id": "PMF4LKb_a5Hc",
        "outputId": "1d38df3c-849e-4214-98e0-ea560fa7f0ec"
      },
      "outputs": [
        {
          "output_type": "execute_result",
          "data": {
            "text/plain": [
              "(150, 4)"
            ]
          },
          "metadata": {},
          "execution_count": 221
        }
      ],
      "source": [
        "Inputs.shape"
      ]
    },
    {
      "cell_type": "markdown",
      "source": [
        "## Let's remove the last 50 rows in the inputs data (they belong to the class 2)"
      ],
      "metadata": {
        "id": "VjV5d0ZX0vEp"
      }
    },
    {
      "cell_type": "code",
      "execution_count": 222,
      "metadata": {
        "id": "y3xruEHZa5Hc"
      },
      "outputs": [],
      "source": [
        "#### New Input\n",
        "X = Inputs[:100,:]"
      ]
    },
    {
      "cell_type": "code",
      "execution_count": 223,
      "metadata": {
        "id": "hDg4AQUza5Hd",
        "outputId": "75a99703-7656-4dfd-b0c6-ff1301a5dd5c",
        "colab": {
          "base_uri": "https://localhost:8080/"
        }
      },
      "outputs": [
        {
          "output_type": "execute_result",
          "data": {
            "text/plain": [
              "(100, 4)"
            ]
          },
          "metadata": {},
          "execution_count": 223
        }
      ],
      "source": [
        "X.shape"
      ]
    },
    {
      "cell_type": "code",
      "source": [
        "plt.scatter(X[:, 3], y)"
      ],
      "metadata": {
        "colab": {
          "base_uri": "https://localhost:8080/",
          "height": 303
        },
        "id": "RNrh-r0xEzPV",
        "outputId": "d78074aa-14f6-4b25-d753-44f12683bd04"
      },
      "execution_count": 224,
      "outputs": [
        {
          "output_type": "execute_result",
          "data": {
            "text/plain": [
              "<matplotlib.collections.PathCollection at 0x7fdaaf1943d0>"
            ]
          },
          "metadata": {},
          "execution_count": 224
        },
        {
          "output_type": "display_data",
          "data": {
            "image/png": "[encoded data removed]",
            "text/plain": [
              "<Figure size 432x288 with 1 Axes>"
            ]
          },
          "metadata": {
            "needs_background": "light"
          }
        }
      ]
    },
    {
      "cell_type": "markdown",
      "source": [
        "## Combines the dataset and Shuffle them using numpy"
      ],
      "metadata": {
        "id": "V15p2I-D1P-X"
      }
    },
    {
      "cell_type": "code",
      "execution_count": 225,
      "metadata": {
        "id": "-2LXYdI4a5Hd"
      },
      "outputs": [],
      "source": [
        "\n",
        "### Combines the input X and the target z\n",
        "\n",
        "data_combine=np.c_[X,y]\n",
        "data_combine\n",
        "## shuffle the data\n",
        "np.random.shuffle(data_combine)\n"
      ]
    },
    {
      "cell_type": "markdown",
      "source": [
        "## Split the data into (X_train, Y_train), (X_test, Y_test):  80% for training and 20% for test"
      ],
      "metadata": {
        "id": "mhbqMNIV3DrM"
      }
    },
    {
      "cell_type": "code",
      "execution_count": 226,
      "metadata": {
        "id": "YTxsELH1a5He"
      },
      "outputs": [],
      "source": [
        "#########\n",
        "def Split(data,train_size=0.8):\n",
        "  \n",
        "  train=int(len(data)*train_size)\n",
        "  \n",
        "  X_train=data[:train,:-1]\n",
        "  Y_train=data[:train,-1]\n",
        "  X_test=data[train:,:-1]\n",
        "  Y_test=data[train:,-1]\n",
        "\n",
        "  return X_train, Y_train, X_test, Y_test\n",
        "\n",
        "X_train, Y_train, X_test, Y_test=Split(data_combine,train_size=0.8)\n",
        "###########"
      ]
    },
    {
      "cell_type": "code",
      "execution_count": 227,
      "metadata": {
        "id": "f2SrQK0ra5He",
        "outputId": "61294ea3-b2e8-454f-d15b-b896e4b00ea1",
        "colab": {
          "base_uri": "https://localhost:8080/"
        }
      },
      "outputs": [
        {
          "output_type": "stream",
          "name": "stdout",
          "text": [
            "(80, 4)\n"
          ]
        }
      ],
      "source": [
        "print(X_train.shape)"
      ]
    },
    {
      "cell_type": "code",
      "execution_count": 228,
      "metadata": {
        "id": "LQdFxmC4a5Hf",
        "outputId": "431622d3-e838-43c0-d7e2-386e83e3a5ff",
        "colab": {
          "base_uri": "https://localhost:8080/"
        }
      },
      "outputs": [
        {
          "output_type": "stream",
          "name": "stdout",
          "text": [
            "(80,)\n",
            "(20, 4)\n",
            "(20,)\n"
          ]
        }
      ],
      "source": [
        "print(Y_train.shape)\n",
        "print(X_test.shape)\n",
        "print(Y_test.shape)"
      ]
    },
    {
      "cell_type": "markdown",
      "source": [
        "## Implement the class Perceptron\n",
        "\n",
        "$ŷ[i] = Θ^TX[i]$\n",
        "\n",
        "if  $y[i]*np.sign(ŷ[i]) <= 0$:\n",
        "\n",
        "        update Θ: Θ = Θ + y[i]*X[i]\n",
        "else:\n",
        "\n",
        "      Θ = Θ\n",
        "\n",
        "## For prediction: \n",
        "\n",
        "np.sign(X @ Θ)"
      ],
      "metadata": {
        "id": "-S45JTl04rf0"
      }
    },
    {
      "cell_type": "code",
      "source": [
        "class perceptron:\n",
        "  def __init__(self, X, Y,theta,iter_= 100):\n",
        "    self.X = X\n",
        "    self.y = Y\n",
        "    self.iter_ = iter_\n",
        "    self.theta = theta\n",
        "      \n",
        "      \n",
        "  def train(self):\n",
        "    #loop over the number of iteration and the number of example\n",
        "    X=self.X.reshape(-1,1)\n",
        "    y=self.y.reshape(-1,1)\n",
        "    # self.theta=self.theta.reshape(-1,1)\n",
        "    epoch=0\n",
        "    while True:\n",
        "\n",
        "      for i in range(len(self.X)):\n",
        "\n",
        "        y_hate=self.theta.T@self.X[i]\n",
        "        # return self.y[i]*self.X[i]\n",
        "        # print(y_hate)\n",
        "        # print( np.sign(y_hate)*self.y[i]<=0)\n",
        "        # return  self.theta+(self.y[i]*self.X[i].reshape(-1,1))\n",
        "\n",
        "        if np.sign(y_hate)*self.y[i]<=0:\n",
        "          self.theta=self.theta+self.y[i]*self.X[i]\n",
        "\n",
        "      if epoch>self.iter_:\n",
        "        break\n",
        "\n",
        "      epoch+=1\n",
        "    \n",
        "\n",
        "\n",
        "      # compute the output of the model and update theta if necessary\n",
        "      \n",
        "  \n",
        "  def predict(self,X):\n",
        "    \n",
        "    return np.sign(X@self.theta)\n",
        "      \n",
        "  \n",
        "  def accuracy(self,X,Y):\n",
        "    accuracy=0\n",
        "    y_pred=self.predict(X)\n",
        "    for i in range(len(X)):\n",
        "      if y_pred[i]==Y[i]:\n",
        "        accuracy+=1\n",
        "\n",
        "    return 100*(accuracy/len(X))\n",
        "\n",
        "\n",
        "      ## number of correctly predicted examples * 100\n",
        "      \n",
        "            "
      ],
      "metadata": {
        "id": "rZ6z6emt3wUI"
      },
      "execution_count": 240,
      "outputs": []
    },
    {
      "cell_type": "code",
      "source": [
        "Perceptron = perceptron(X_train, Y_train,theta= np.random.rand(4)*1e-4, iter_= 100)\n",
        "Perceptron.train()"
      ],
      "metadata": {
        "id": "XeXOLQC6sIok"
      },
      "execution_count": 250,
      "outputs": []
    },
    {
      "cell_type": "code",
      "execution_count": 245,
      "metadata": {
        "id": "Fi4m35Q6a5Hh",
        "colab": {
          "base_uri": "https://localhost:8080/"
        },
        "outputId": "38896a1e-f9b6-47f0-c41e-17d7378908ca"
      },
      "outputs": [
        {
          "output_type": "execute_result",
          "data": {
            "text/plain": [
              "array([-1.,  1., -1.,  1., -1., -1., -1.,  1.,  1.,  1., -1., -1., -1.,\n",
              "       -1.,  1.,  1.,  1.,  1., -1., -1.])"
            ]
          },
          "metadata": {},
          "execution_count": 245
        }
      ],
      "source": [
        "y_pred=Perceptron.predict(X_test)\n",
        "Perceptron.accuracy(X_test, Y_test)\n"
      ]
    },
    {
      "cell_type": "code",
      "source": [
        "Perceptron.accuracy(X_test, Y_test)"
      ],
      "metadata": {
        "id": "r3_jNL2vxpA2",
        "colab": {
          "base_uri": "https://localhost:8080/"
        },
        "outputId": "56e34b11-bc79-4aed-ecb1-22aa8ea2e858"
      },
      "execution_count": 248,
      "outputs": [
        {
          "output_type": "execute_result",
          "data": {
            "text/plain": [
              "100.0"
            ]
          },
          "metadata": {},
          "execution_count": 248
        }
      ]
    },
    {
      "cell_type": "code",
      "source": [
        ""
      ],
      "metadata": {
        "id": "9zdw8JZ_xo-S"
      },
      "execution_count": null,
      "outputs": []
    },
    {
      "cell_type": "code",
      "execution_count": 251,
      "metadata": {
        "id": "wcwMg-Jga5Hi"
      },
      "outputs": [],
      "source": [
        "Perceptron = perceptron(X_train, Y_train, np.random.rand(4)*1e-4)"
      ]
    },
    {
      "cell_type": "code",
      "execution_count": 252,
      "metadata": {
        "id": "jZquZaUva5Hj"
      },
      "outputs": [],
      "source": [
        "Perceptron.train()"
      ]
    },
    {
      "cell_type": "code",
      "execution_count": 254,
      "metadata": {
        "id": "mrNV3LiUa5Hk",
        "outputId": "3bb63a4b-633e-416a-af35-3985fb4ffe8f",
        "colab": {
          "base_uri": "https://localhost:8080/"
        }
      },
      "outputs": [
        {
          "output_type": "execute_result",
          "data": {
            "text/plain": [
              "array([-1.,  1., -1.,  1., -1., -1., -1.,  1.,  1.,  1., -1., -1., -1.,\n",
              "       -1.,  1.,  1.,  1.,  1., -1., -1.])"
            ]
          },
          "metadata": {},
          "execution_count": 254
        }
      ],
      "source": [
        "Perceptron.predict(X_test)"
      ]
    },
    {
      "cell_type": "code",
      "execution_count": 255,
      "metadata": {
        "id": "M_CL5aBBa5Hk",
        "outputId": "a80ced9b-ccf1-4cd3-e426-95af6d50aa57",
        "colab": {
          "base_uri": "https://localhost:8080/"
        }
      },
      "outputs": [
        {
          "output_type": "execute_result",
          "data": {
            "text/plain": [
              "100.0"
            ]
          },
          "metadata": {},
          "execution_count": 255
        }
      ],
      "source": [
        "Perceptron.accuracy(X_test, Y_test)"
      ]
    },
    {
      "cell_type": "code",
      "source": [
        "np.sum(Y_test==Perceptron.predict(X_test))"
      ],
      "metadata": {
        "colab": {
          "base_uri": "https://localhost:8080/"
        },
        "id": "uGgPgHy-0yPA",
        "outputId": "e7108965-3195-476b-e3b5-84e55bf6f4f9"
      },
      "execution_count": 256,
      "outputs": [
        {
          "output_type": "execute_result",
          "data": {
            "text/plain": [
              "20"
            ]
          },
          "metadata": {},
          "execution_count": 256
        }
      ]
    },
    {
      "cell_type": "code",
      "execution_count": 256,
      "metadata": {
        "id": "I9TxPjKOa5Hk"
      },
      "outputs": [],
      "source": [
        ""
      ]
    }
  ],
  "metadata": {
    "kernelspec": {
      "display_name": "Python 3",
      "language": "python",
      "name": "python3"
    },
    "language_info": {
      "codemirror_mode": {
        "name": "ipython",
        "version": 3
      },
      "file_extension": ".py",
      "mimetype": "text/x-python",
      "name": "python",
      "nbconvert_exporter": "python",
      "pygments_lexer": "ipython3",
      "version": "3.8.5"
    },
    "colab": {
      "name": "Fenosoa_Randrianjatovo_Perceptron_Tutorial.ipynb",
      "provenance": [],
      "collapsed_sections": [],
      "include_colab_link": true
    }
  },
  "nbformat": 4,
  "nbformat_minor": 0
}